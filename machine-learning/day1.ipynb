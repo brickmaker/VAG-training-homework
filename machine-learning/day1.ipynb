{
 "cells": [
  {
   "cell_type": "markdown",
   "metadata": {},
   "source": [
    "# Day1 Pytorch基础\n",
    "赵晓冬 2019.8.10"
   ]
  },
  {
   "cell_type": "code",
   "execution_count": 1,
   "metadata": {},
   "outputs": [],
   "source": [
    "import torch"
   ]
  },
  {
   "cell_type": "code",
   "execution_count": 2,
   "metadata": {},
   "outputs": [],
   "source": [
    "x = torch.ones(3, 5)"
   ]
  },
  {
   "cell_type": "code",
   "execution_count": 3,
   "metadata": {},
   "outputs": [
    {
     "name": "stdout",
     "output_type": "stream",
     "text": [
      "tensor([[1., 1., 1., 1., 1.],\n",
      "        [1., 1., 1., 1., 1.],\n",
      "        [1., 1., 1., 1., 1.]])\n"
     ]
    }
   ],
   "source": [
    "print(x)"
   ]
  },
  {
   "cell_type": "code",
   "execution_count": 4,
   "metadata": {},
   "outputs": [],
   "source": [
    "x = x.cuda()"
   ]
  },
  {
   "cell_type": "code",
   "execution_count": 5,
   "metadata": {},
   "outputs": [
    {
     "name": "stdout",
     "output_type": "stream",
     "text": [
      "tensor([[1., 1., 1., 1., 1.],\n",
      "        [1., 1., 1., 1., 1.],\n",
      "        [1., 1., 1., 1., 1.]], device='cuda:0')\n"
     ]
    }
   ],
   "source": [
    "print(x)"
   ]
  },
  {
   "cell_type": "code",
   "execution_count": 6,
   "metadata": {},
   "outputs": [
    {
     "data": {
      "text/plain": [
       "tensor([[1., 1., 1.],\n",
       "        [1., 1., 1.],\n",
       "        [1., 1., 1.],\n",
       "        [1., 1., 1.],\n",
       "        [1., 1., 1.]], device='cuda:0')"
      ]
     },
     "execution_count": 6,
     "metadata": {},
     "output_type": "execute_result"
    }
   ],
   "source": [
    "x.reshape(5, 3)"
   ]
  },
  {
   "cell_type": "markdown",
   "metadata": {},
   "source": [
    "## 练习1：swap two row of a tensor"
   ]
  },
  {
   "cell_type": "code",
   "execution_count": 7,
   "metadata": {},
   "outputs": [],
   "source": [
    "x = torch.arange(9).reshape(3, 3)"
   ]
  },
  {
   "cell_type": "code",
   "execution_count": 8,
   "metadata": {},
   "outputs": [
    {
     "name": "stdout",
     "output_type": "stream",
     "text": [
      "tensor([[0, 1, 2],\n",
      "        [3, 4, 5],\n",
      "        [6, 7, 8]])\n"
     ]
    }
   ],
   "source": [
    "print(x)"
   ]
  },
  {
   "cell_type": "code",
   "execution_count": 9,
   "metadata": {},
   "outputs": [],
   "source": [
    "# swap row0 and row2\n",
    "x = x[[2, 1, 0]]"
   ]
  },
  {
   "cell_type": "code",
   "execution_count": 10,
   "metadata": {},
   "outputs": [
    {
     "name": "stdout",
     "output_type": "stream",
     "text": [
      "tensor([[6, 7, 8],\n",
      "        [3, 4, 5],\n",
      "        [0, 1, 2]])\n"
     ]
    }
   ],
   "source": [
    "print(x)"
   ]
  },
  {
   "cell_type": "markdown",
   "metadata": {},
   "source": [
    "## 练习2：extract all 3x3 block from 10x10 tensor"
   ]
  },
  {
   "cell_type": "code",
   "execution_count": 11,
   "metadata": {},
   "outputs": [],
   "source": [
    "x = torch.arange(100).reshape(10, 10)"
   ]
  },
  {
   "cell_type": "code",
   "execution_count": 12,
   "metadata": {},
   "outputs": [
    {
     "name": "stdout",
     "output_type": "stream",
     "text": [
      "tensor([[ 0,  1,  2,  3,  4,  5,  6,  7,  8,  9],\n",
      "        [10, 11, 12, 13, 14, 15, 16, 17, 18, 19],\n",
      "        [20, 21, 22, 23, 24, 25, 26, 27, 28, 29],\n",
      "        [30, 31, 32, 33, 34, 35, 36, 37, 38, 39],\n",
      "        [40, 41, 42, 43, 44, 45, 46, 47, 48, 49],\n",
      "        [50, 51, 52, 53, 54, 55, 56, 57, 58, 59],\n",
      "        [60, 61, 62, 63, 64, 65, 66, 67, 68, 69],\n",
      "        [70, 71, 72, 73, 74, 75, 76, 77, 78, 79],\n",
      "        [80, 81, 82, 83, 84, 85, 86, 87, 88, 89],\n",
      "        [90, 91, 92, 93, 94, 95, 96, 97, 98, 99]])\n"
     ]
    }
   ],
   "source": [
    "print(x)"
   ]
  },
  {
   "cell_type": "code",
   "execution_count": 13,
   "metadata": {},
   "outputs": [],
   "source": [
    "res2 = torch.stack([torch.stack([x.narrow(0, i, 3).narrow(1, j, 3) for j in range(0, 8)]) for i in range(0, 8)])"
   ]
  },
  {
   "cell_type": "code",
   "execution_count": 14,
   "metadata": {},
   "outputs": [
    {
     "name": "stdout",
     "output_type": "stream",
     "text": [
      "tensor([[[[ 0,  1,  2],\n",
      "          [10, 11, 12],\n",
      "          [20, 21, 22]],\n",
      "\n",
      "         [[ 1,  2,  3],\n",
      "          [11, 12, 13],\n",
      "          [21, 22, 23]],\n",
      "\n",
      "         [[ 2,  3,  4],\n",
      "          [12, 13, 14],\n",
      "          [22, 23, 24]],\n",
      "\n",
      "         [[ 3,  4,  5],\n",
      "          [13, 14, 15],\n",
      "          [23, 24, 25]],\n",
      "\n",
      "         [[ 4,  5,  6],\n",
      "          [14, 15, 16],\n",
      "          [24, 25, 26]],\n",
      "\n",
      "         [[ 5,  6,  7],\n",
      "          [15, 16, 17],\n",
      "          [25, 26, 27]],\n",
      "\n",
      "         [[ 6,  7,  8],\n",
      "          [16, 17, 18],\n",
      "          [26, 27, 28]],\n",
      "\n",
      "         [[ 7,  8,  9],\n",
      "          [17, 18, 19],\n",
      "          [27, 28, 29]]],\n",
      "\n",
      "\n",
      "        [[[10, 11, 12],\n",
      "          [20, 21, 22],\n",
      "          [30, 31, 32]],\n",
      "\n",
      "         [[11, 12, 13],\n",
      "          [21, 22, 23],\n",
      "          [31, 32, 33]],\n",
      "\n",
      "         [[12, 13, 14],\n",
      "          [22, 23, 24],\n",
      "          [32, 33, 34]],\n",
      "\n",
      "         [[13, 14, 15],\n",
      "          [23, 24, 25],\n",
      "          [33, 34, 35]],\n",
      "\n",
      "         [[14, 15, 16],\n",
      "          [24, 25, 26],\n",
      "          [34, 35, 36]],\n",
      "\n",
      "         [[15, 16, 17],\n",
      "          [25, 26, 27],\n",
      "          [35, 36, 37]],\n",
      "\n",
      "         [[16, 17, 18],\n",
      "          [26, 27, 28],\n",
      "          [36, 37, 38]],\n",
      "\n",
      "         [[17, 18, 19],\n",
      "          [27, 28, 29],\n",
      "          [37, 38, 39]]],\n",
      "\n",
      "\n",
      "        [[[20, 21, 22],\n",
      "          [30, 31, 32],\n",
      "          [40, 41, 42]],\n",
      "\n",
      "         [[21, 22, 23],\n",
      "          [31, 32, 33],\n",
      "          [41, 42, 43]],\n",
      "\n",
      "         [[22, 23, 24],\n",
      "          [32, 33, 34],\n",
      "          [42, 43, 44]],\n",
      "\n",
      "         [[23, 24, 25],\n",
      "          [33, 34, 35],\n",
      "          [43, 44, 45]],\n",
      "\n",
      "         [[24, 25, 26],\n",
      "          [34, 35, 36],\n",
      "          [44, 45, 46]],\n",
      "\n",
      "         [[25, 26, 27],\n",
      "          [35, 36, 37],\n",
      "          [45, 46, 47]],\n",
      "\n",
      "         [[26, 27, 28],\n",
      "          [36, 37, 38],\n",
      "          [46, 47, 48]],\n",
      "\n",
      "         [[27, 28, 29],\n",
      "          [37, 38, 39],\n",
      "          [47, 48, 49]]],\n",
      "\n",
      "\n",
      "        [[[30, 31, 32],\n",
      "          [40, 41, 42],\n",
      "          [50, 51, 52]],\n",
      "\n",
      "         [[31, 32, 33],\n",
      "          [41, 42, 43],\n",
      "          [51, 52, 53]],\n",
      "\n",
      "         [[32, 33, 34],\n",
      "          [42, 43, 44],\n",
      "          [52, 53, 54]],\n",
      "\n",
      "         [[33, 34, 35],\n",
      "          [43, 44, 45],\n",
      "          [53, 54, 55]],\n",
      "\n",
      "         [[34, 35, 36],\n",
      "          [44, 45, 46],\n",
      "          [54, 55, 56]],\n",
      "\n",
      "         [[35, 36, 37],\n",
      "          [45, 46, 47],\n",
      "          [55, 56, 57]],\n",
      "\n",
      "         [[36, 37, 38],\n",
      "          [46, 47, 48],\n",
      "          [56, 57, 58]],\n",
      "\n",
      "         [[37, 38, 39],\n",
      "          [47, 48, 49],\n",
      "          [57, 58, 59]]],\n",
      "\n",
      "\n",
      "        [[[40, 41, 42],\n",
      "          [50, 51, 52],\n",
      "          [60, 61, 62]],\n",
      "\n",
      "         [[41, 42, 43],\n",
      "          [51, 52, 53],\n",
      "          [61, 62, 63]],\n",
      "\n",
      "         [[42, 43, 44],\n",
      "          [52, 53, 54],\n",
      "          [62, 63, 64]],\n",
      "\n",
      "         [[43, 44, 45],\n",
      "          [53, 54, 55],\n",
      "          [63, 64, 65]],\n",
      "\n",
      "         [[44, 45, 46],\n",
      "          [54, 55, 56],\n",
      "          [64, 65, 66]],\n",
      "\n",
      "         [[45, 46, 47],\n",
      "          [55, 56, 57],\n",
      "          [65, 66, 67]],\n",
      "\n",
      "         [[46, 47, 48],\n",
      "          [56, 57, 58],\n",
      "          [66, 67, 68]],\n",
      "\n",
      "         [[47, 48, 49],\n",
      "          [57, 58, 59],\n",
      "          [67, 68, 69]]],\n",
      "\n",
      "\n",
      "        [[[50, 51, 52],\n",
      "          [60, 61, 62],\n",
      "          [70, 71, 72]],\n",
      "\n",
      "         [[51, 52, 53],\n",
      "          [61, 62, 63],\n",
      "          [71, 72, 73]],\n",
      "\n",
      "         [[52, 53, 54],\n",
      "          [62, 63, 64],\n",
      "          [72, 73, 74]],\n",
      "\n",
      "         [[53, 54, 55],\n",
      "          [63, 64, 65],\n",
      "          [73, 74, 75]],\n",
      "\n",
      "         [[54, 55, 56],\n",
      "          [64, 65, 66],\n",
      "          [74, 75, 76]],\n",
      "\n",
      "         [[55, 56, 57],\n",
      "          [65, 66, 67],\n",
      "          [75, 76, 77]],\n",
      "\n",
      "         [[56, 57, 58],\n",
      "          [66, 67, 68],\n",
      "          [76, 77, 78]],\n",
      "\n",
      "         [[57, 58, 59],\n",
      "          [67, 68, 69],\n",
      "          [77, 78, 79]]],\n",
      "\n",
      "\n",
      "        [[[60, 61, 62],\n",
      "          [70, 71, 72],\n",
      "          [80, 81, 82]],\n",
      "\n",
      "         [[61, 62, 63],\n",
      "          [71, 72, 73],\n",
      "          [81, 82, 83]],\n",
      "\n",
      "         [[62, 63, 64],\n",
      "          [72, 73, 74],\n",
      "          [82, 83, 84]],\n",
      "\n",
      "         [[63, 64, 65],\n",
      "          [73, 74, 75],\n",
      "          [83, 84, 85]],\n",
      "\n",
      "         [[64, 65, 66],\n",
      "          [74, 75, 76],\n",
      "          [84, 85, 86]],\n",
      "\n",
      "         [[65, 66, 67],\n",
      "          [75, 76, 77],\n",
      "          [85, 86, 87]],\n",
      "\n",
      "         [[66, 67, 68],\n",
      "          [76, 77, 78],\n",
      "          [86, 87, 88]],\n",
      "\n",
      "         [[67, 68, 69],\n",
      "          [77, 78, 79],\n",
      "          [87, 88, 89]]],\n",
      "\n",
      "\n",
      "        [[[70, 71, 72],\n",
      "          [80, 81, 82],\n",
      "          [90, 91, 92]],\n",
      "\n",
      "         [[71, 72, 73],\n",
      "          [81, 82, 83],\n",
      "          [91, 92, 93]],\n",
      "\n",
      "         [[72, 73, 74],\n",
      "          [82, 83, 84],\n",
      "          [92, 93, 94]],\n",
      "\n",
      "         [[73, 74, 75],\n",
      "          [83, 84, 85],\n",
      "          [93, 94, 95]],\n",
      "\n",
      "         [[74, 75, 76],\n",
      "          [84, 85, 86],\n",
      "          [94, 95, 96]],\n",
      "\n",
      "         [[75, 76, 77],\n",
      "          [85, 86, 87],\n",
      "          [95, 96, 97]],\n",
      "\n",
      "         [[76, 77, 78],\n",
      "          [86, 87, 88],\n",
      "          [96, 97, 98]],\n",
      "\n",
      "         [[77, 78, 79],\n",
      "          [87, 88, 89],\n",
      "          [97, 98, 99]]]])\n"
     ]
    }
   ],
   "source": [
    "print(res2)"
   ]
  },
  {
   "cell_type": "code",
   "execution_count": 15,
   "metadata": {},
   "outputs": [
    {
     "name": "stdout",
     "output_type": "stream",
     "text": [
      "torch.Size([8, 8, 3, 3])\n"
     ]
    }
   ],
   "source": [
    "print(res2.shape)"
   ]
  },
  {
   "cell_type": "markdown",
   "metadata": {},
   "source": [
    "# 练习3：for 10x3 tensor, extract rows without repeated values"
   ]
  },
  {
   "cell_type": "code",
   "execution_count": 16,
   "metadata": {},
   "outputs": [],
   "source": [
    "a = torch.randint(0, 6, (10, 3))"
   ]
  },
  {
   "cell_type": "code",
   "execution_count": 17,
   "metadata": {},
   "outputs": [
    {
     "name": "stdout",
     "output_type": "stream",
     "text": [
      "tensor([[2, 2, 0],\n",
      "        [2, 2, 2],\n",
      "        [3, 0, 0],\n",
      "        [3, 1, 1],\n",
      "        [3, 2, 4],\n",
      "        [4, 5, 0],\n",
      "        [1, 5, 0],\n",
      "        [5, 5, 3],\n",
      "        [2, 5, 3],\n",
      "        [5, 1, 5]])\n"
     ]
    }
   ],
   "source": [
    "print(a)"
   ]
  },
  {
   "cell_type": "code",
   "execution_count": 18,
   "metadata": {},
   "outputs": [],
   "source": [
    "idx = [len(row.unique()) == len(row) for row in a]"
   ]
  },
  {
   "cell_type": "code",
   "execution_count": 19,
   "metadata": {},
   "outputs": [
    {
     "data": {
      "text/plain": [
       "tensor([[3, 2, 4],\n",
       "        [4, 5, 0],\n",
       "        [1, 5, 0],\n",
       "        [2, 5, 3]])"
      ]
     },
     "execution_count": 19,
     "metadata": {},
     "output_type": "execute_result"
    }
   ],
   "source": [
    "a[idx]"
   ]
  }
 ],
 "metadata": {
  "kernelspec": {
   "display_name": "venv",
   "language": "python",
   "name": "venv"
  },
  "language_info": {
   "codemirror_mode": {
    "name": "ipython",
    "version": 3
   },
   "file_extension": ".py",
   "mimetype": "text/x-python",
   "name": "python",
   "nbconvert_exporter": "python",
   "pygments_lexer": "ipython3",
   "version": "3.6.7"
  }
 },
 "nbformat": 4,
 "nbformat_minor": 4
}
